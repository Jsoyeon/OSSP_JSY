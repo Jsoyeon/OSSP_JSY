{
 "cells": [
  {
   "cell_type": "code",
   "execution_count": 1,
   "metadata": {},
   "outputs": [],
   "source": [
    "''' Copyright 2019 Jeong, Soyeon\n",
    "\n",
    "Licensed under the Apache License, Version 2.0 (the \"License\");\n",
    "you may not use this file except in compliance with the License.\n",
    "You may obtain a copy of the License at http://www.apache.org/licenses/LICENSE-2.0 \n",
    "Unless required by applicable law or agreed to in writing,\n",
    "software distributed under the License is distributed on an \"AS IS\" BASIS, \n",
    "WITHOUT WARRANTIES OR CONDITIONS OF ANY KIND, either express or implied.\n",
    "See the License for the specific language governing permissions andlimitations under the License. '''\n",
    "\n",
    "#Author Jeong, Soyeon, kt01067774539@gmail.com \n",
    "#Supervisor Na, In Seop, ypencil@hanmail.net \n",
    "#Starting 2019.01.04\n",
    "#Reference https://www.kaggle.com/ashishpatel26/think-differently-what-s-cooking\n",
    "\n",
    "import numpy as np\n",
    "import pandas as pd\n",
    "import json\n",
    "import re\n",
    "\n",
    "from sklearn.multiclass import OneVsRestClassifier\n",
    "from nltk.stem import WordNetLemmatizer\n",
    "\n",
    "from sklearn.feature_extraction.text import TfidfVectorizer\n",
    "from sklearn.svm import SVC\n",
    "from sklearn.pipeline import make_pipeline\n",
    "from sklearn.preprocessing import FunctionTransformer, LabelEncoder\n",
    "\n",
    "from tqdm import tqdm\n",
    "tqdm.pandas()"
   ]
  },
  {
   "cell_type": "markdown",
   "metadata": {},
   "source": [
    "<1> 데이터 불러오기"
   ]
  },
  {
   "cell_type": "code",
   "execution_count": 2,
   "metadata": {},
   "outputs": [],
   "source": [
    "train = pd.read_json('train.json')\n",
    "test = pd.read_json('test.json')"
   ]
  },
  {
   "cell_type": "markdown",
   "metadata": {},
   "source": [
    "<2> 데이터 분석"
   ]
  },
  {
   "cell_type": "markdown",
   "metadata": {},
   "source": [
    " 1) cuisine의 종류 : 20개"
   ]
  },
  {
   "cell_type": "code",
   "execution_count": 3,
   "metadata": {},
   "outputs": [
    {
     "data": {
      "text/plain": [
       "array(['greek', 'southern_us', 'filipino', 'indian', 'jamaican',\n",
       "       'spanish', 'italian', 'mexican', 'chinese', 'british', 'thai',\n",
       "       'vietnamese', 'cajun_creole', 'brazilian', 'french', 'japanese',\n",
       "       'irish', 'korean', 'moroccan', 'russian'], dtype=object)"
      ]
     },
     "execution_count": 3,
     "metadata": {},
     "output_type": "execute_result"
    }
   ],
   "source": [
    "train[\"cuisine\"].unique()"
   ]
  },
  {
   "cell_type": "markdown",
   "metadata": {},
   "source": [
    " 2) 각 cuisine에 속하는 음식의 가짓수"
   ]
  },
  {
   "cell_type": "code",
   "execution_count": 4,
   "metadata": {},
   "outputs": [
    {
     "data": {
      "text/plain": [
       "italian         7838\n",
       "mexican         6438\n",
       "southern_us     4320\n",
       "indian          3003\n",
       "chinese         2673\n",
       "french          2646\n",
       "cajun_creole    1546\n",
       "thai            1539\n",
       "japanese        1423\n",
       "greek           1175\n",
       "spanish          989\n",
       "korean           830\n",
       "vietnamese       825\n",
       "moroccan         821\n",
       "british          804\n",
       "filipino         755\n",
       "irish            667\n",
       "jamaican         526\n",
       "russian          489\n",
       "brazilian        467\n",
       "Name: cuisine, dtype: int64"
      ]
     },
     "execution_count": 4,
     "metadata": {},
     "output_type": "execute_result"
    }
   ],
   "source": [
    "train[\"cuisine\"].value_counts()"
   ]
  },
  {
   "cell_type": "markdown",
   "metadata": {},
   "source": [
    " 3) 각 cuisine 별로 자주 사용되는 재료 찾기"
   ]
  },
  {
   "cell_type": "code",
   "execution_count": 5,
   "metadata": {},
   "outputs": [
    {
     "name": "stdout",
     "output_type": "stream",
     "text": [
      "\n",
      " \n",
      "\n",
      "<greek>\n",
      " .feta cheese crumbles .feta cheese .fresh dill .cucumber .dried oregano\n",
      "\n",
      "<southern_us>\n",
      " .buttermilk .butter .all-purpose flour .baking powder .salt\n",
      "\n",
      "<filipino>\n",
      " .soy sauce .cooking oil .calamansi juice .lumpia wrappers .garlic\n",
      "\n",
      "<indian>\n",
      " .garam masala .ground turmeric .cumin seed .tumeric .green chilies\n",
      "\n",
      "<jamaican>\n",
      " .ground allspice .scotch bonnet chile .allspice .jamaican jerk season .thyme\n",
      "\n",
      "<spanish>\n",
      " .spanish chorizo .saffron threads .sherry vinegar .extra-virgin olive oil .chorizo sausage\n",
      "\n",
      "<italian>\n",
      " .grated parmesan cheese .olive oil .extra-virgin olive oil .salt .fresh basil\n",
      "\n",
      "<mexican>\n",
      " .corn tortillas .avocado .salsa .flour tortillas .jalapeno chilies\n",
      "\n",
      "<chinese>\n",
      " .soy sauce .sesame oil .corn starch .oyster sauce .hoisin sauce\n",
      "\n",
      "<british>\n",
      " .milk .stilton cheese .golden syrup .suet .unsalted butter\n",
      "\n",
      "<thai>\n",
      " .fish sauce .coconut milk .lemongrass .Thai red curry paste .red curry paste\n",
      "\n",
      "<vietnamese>\n",
      " .fish sauce .beansprouts .rice vermicelli .rice paper .lemongrass\n",
      "\n",
      "<cajun_creole>\n",
      " .cajun seasoning .andouille sausage .creole seasoning .green bell pepper .smoked sausage\n",
      "\n",
      "<brazilian>\n",
      " .cachaca .chocolate sprinkles .a챌ai .palm oil .manioc flour\n",
      "\n",
      "<french>\n",
      " .unsalted butter .large egg yolks .salt .all-purpose flour .shallots\n",
      "\n",
      "<japanese>\n",
      " .mirin .sake .dashi .soy sauce .nori\n",
      "\n",
      "<irish>\n",
      " .Irish whiskey .Guinness Beer .corned beef .irish cream liqueur .potatoes\n",
      "\n",
      "<korean>\n",
      " .Gochujang base .kimchi .sesame oil .sesame seeds .soy sauce\n",
      "\n",
      "<moroccan>\n",
      " .couscous .preserved lemon .ground ginger .ground cumin .ras el hanout\n",
      "\n",
      "<russian>\n",
      " .beets .fresh dill .dill .buckwheat flour .sauerkraut\n"
     ]
    }
   ],
   "source": [
    "from collections import Counter\n",
    "import operator\n",
    "\n",
    "distinct_ingr = train['ingredients'].apply(lambda x:','.join(x))\n",
    "cuisines = train['cuisine']\n",
    "top=' '\n",
    "total = Counter(','.join(distinct_ingr).split(','))\n",
    "\n",
    "for cuisine in cuisines.unique():\n",
    "    ingr = Counter(','.join(distinct_ingr[cuisines == cuisine]).split(','))\n",
    "    ingr_score = {k:(float(ingr[k])/len(ingr))**2/(float(total[k])/len(total)) for k in ingr.keys()}\n",
    "               \n",
    "    top += \"\\n\\n<\"+cuisine+\">\\n\"\n",
    "    for item in sorted(ingr_score.items(), key = lambda x:x[1],reverse=True)[0:5]:\n",
    "        top += \" .\"+item[0]\n",
    "    if(cuisine==\"russian\"):\n",
    "        print(\"\\n\"+top)"
   ]
  },
  {
   "cell_type": "markdown",
   "metadata": {},
   "source": [
    " 4) 그래프로 cuisine 나타내기"
   ]
  },
  {
   "cell_type": "code",
   "execution_count": 6,
   "metadata": {},
   "outputs": [
    {
     "data": {
      "text/plain": [
       "<Figure size 1200x700 with 1 Axes>"
      ]
     },
     "metadata": {},
     "output_type": "display_data"
    }
   ],
   "source": [
    "import seaborn as sns\n",
    "import matplotlib.pyplot as plt\n",
    "\n",
    "ax = train['cuisine'].value_counts().plot(kind='barh', title =\"Cuisine types\", figsize=(12, 7), legend=True, fontsize=14, rot=5)\n",
    "ax.set_ylabel(\"cuisine\", fontsize=17, rotation=0)\n",
    "plt.show()"
   ]
  },
  {
   "cell_type": "markdown",
   "metadata": {},
   "source": [
    " 5) 사용되는 재료의 수 음식 별로 파악하기"
   ]
  },
  {
   "cell_type": "code",
   "execution_count": 7,
   "metadata": {},
   "outputs": [
    {
     "data": {
      "text/html": [
       "<div>\n",
       "<style scoped>\n",
       "    .dataframe tbody tr th:only-of-type {\n",
       "        vertical-align: middle;\n",
       "    }\n",
       "\n",
       "    .dataframe tbody tr th {\n",
       "        vertical-align: top;\n",
       "    }\n",
       "\n",
       "    .dataframe thead th {\n",
       "        text-align: right;\n",
       "    }\n",
       "</style>\n",
       "<table border=\"1\" class=\"dataframe\">\n",
       "  <thead>\n",
       "    <tr style=\"text-align: right;\">\n",
       "      <th></th>\n",
       "      <th>cuisine</th>\n",
       "      <th>id</th>\n",
       "      <th>ingredients</th>\n",
       "      <th>num_ingredients</th>\n",
       "    </tr>\n",
       "  </thead>\n",
       "  <tbody>\n",
       "    <tr>\n",
       "      <th>30636</th>\n",
       "      <td>spanish</td>\n",
       "      <td>32772</td>\n",
       "      <td>[sweetened condensed milk]</td>\n",
       "      <td>1</td>\n",
       "    </tr>\n",
       "    <tr>\n",
       "      <th>13178</th>\n",
       "      <td>thai</td>\n",
       "      <td>29570</td>\n",
       "      <td>[grained]</td>\n",
       "      <td>1</td>\n",
       "    </tr>\n",
       "    <tr>\n",
       "      <th>23512</th>\n",
       "      <td>french</td>\n",
       "      <td>35028</td>\n",
       "      <td>[haricots verts]</td>\n",
       "      <td>1</td>\n",
       "    </tr>\n",
       "    <tr>\n",
       "      <th>22119</th>\n",
       "      <td>french</td>\n",
       "      <td>41135</td>\n",
       "      <td>[butter]</td>\n",
       "      <td>1</td>\n",
       "    </tr>\n",
       "    <tr>\n",
       "      <th>18136</th>\n",
       "      <td>thai</td>\n",
       "      <td>39186</td>\n",
       "      <td>[jasmine rice]</td>\n",
       "      <td>1</td>\n",
       "    </tr>\n",
       "    <tr>\n",
       "      <th>34531</th>\n",
       "      <td>greek</td>\n",
       "      <td>10816</td>\n",
       "      <td>[phyllo]</td>\n",
       "      <td>1</td>\n",
       "    </tr>\n",
       "    <tr>\n",
       "      <th>10506</th>\n",
       "      <td>mexican</td>\n",
       "      <td>32631</td>\n",
       "      <td>[corn tortillas]</td>\n",
       "      <td>1</td>\n",
       "    </tr>\n",
       "    <tr>\n",
       "      <th>21008</th>\n",
       "      <td>italian</td>\n",
       "      <td>39221</td>\n",
       "      <td>[cherry tomatoes]</td>\n",
       "      <td>1</td>\n",
       "    </tr>\n",
       "    <tr>\n",
       "      <th>8990</th>\n",
       "      <td>indian</td>\n",
       "      <td>41124</td>\n",
       "      <td>[butter]</td>\n",
       "      <td>1</td>\n",
       "    </tr>\n",
       "    <tr>\n",
       "      <th>8181</th>\n",
       "      <td>japanese</td>\n",
       "      <td>16116</td>\n",
       "      <td>[udon]</td>\n",
       "      <td>1</td>\n",
       "    </tr>\n",
       "    <tr>\n",
       "      <th>26887</th>\n",
       "      <td>mexican</td>\n",
       "      <td>18593</td>\n",
       "      <td>[vegetable oil]</td>\n",
       "      <td>1</td>\n",
       "    </tr>\n",
       "    <tr>\n",
       "      <th>17804</th>\n",
       "      <td>southern_us</td>\n",
       "      <td>29849</td>\n",
       "      <td>[lemonade concentrate]</td>\n",
       "      <td>1</td>\n",
       "    </tr>\n",
       "    <tr>\n",
       "      <th>29294</th>\n",
       "      <td>spanish</td>\n",
       "      <td>7460</td>\n",
       "      <td>[spanish chorizo]</td>\n",
       "      <td>1</td>\n",
       "    </tr>\n",
       "    <tr>\n",
       "      <th>22387</th>\n",
       "      <td>indian</td>\n",
       "      <td>36874</td>\n",
       "      <td>[cumin seed]</td>\n",
       "      <td>1</td>\n",
       "    </tr>\n",
       "    <tr>\n",
       "      <th>6787</th>\n",
       "      <td>indian</td>\n",
       "      <td>36818</td>\n",
       "      <td>[plain low-fat yogurt]</td>\n",
       "      <td>1</td>\n",
       "    </tr>\n",
       "    <tr>\n",
       "      <th>37220</th>\n",
       "      <td>indian</td>\n",
       "      <td>27192</td>\n",
       "      <td>[unsalted butter]</td>\n",
       "      <td>1</td>\n",
       "    </tr>\n",
       "    <tr>\n",
       "      <th>18324</th>\n",
       "      <td>indian</td>\n",
       "      <td>14335</td>\n",
       "      <td>[unsalted butter]</td>\n",
       "      <td>1</td>\n",
       "    </tr>\n",
       "    <tr>\n",
       "      <th>32105</th>\n",
       "      <td>japanese</td>\n",
       "      <td>12805</td>\n",
       "      <td>[water]</td>\n",
       "      <td>1</td>\n",
       "    </tr>\n",
       "    <tr>\n",
       "      <th>940</th>\n",
       "      <td>japanese</td>\n",
       "      <td>4734</td>\n",
       "      <td>[sushi rice]</td>\n",
       "      <td>1</td>\n",
       "    </tr>\n",
       "    <tr>\n",
       "      <th>8852</th>\n",
       "      <td>thai</td>\n",
       "      <td>29738</td>\n",
       "      <td>[sticky rice]</td>\n",
       "      <td>1</td>\n",
       "    </tr>\n",
       "  </tbody>\n",
       "</table>\n",
       "</div>"
      ],
      "text/plain": [
       "           cuisine     id                 ingredients  num_ingredients\n",
       "30636      spanish  32772  [sweetened condensed milk]                1\n",
       "13178         thai  29570                   [grained]                1\n",
       "23512       french  35028            [haricots verts]                1\n",
       "22119       french  41135                    [butter]                1\n",
       "18136         thai  39186              [jasmine rice]                1\n",
       "34531        greek  10816                    [phyllo]                1\n",
       "10506      mexican  32631            [corn tortillas]                1\n",
       "21008      italian  39221           [cherry tomatoes]                1\n",
       "8990        indian  41124                    [butter]                1\n",
       "8181      japanese  16116                      [udon]                1\n",
       "26887      mexican  18593             [vegetable oil]                1\n",
       "17804  southern_us  29849      [lemonade concentrate]                1\n",
       "29294      spanish   7460           [spanish chorizo]                1\n",
       "22387       indian  36874                [cumin seed]                1\n",
       "6787        indian  36818      [plain low-fat yogurt]                1\n",
       "37220       indian  27192           [unsalted butter]                1\n",
       "18324       indian  14335           [unsalted butter]                1\n",
       "32105     japanese  12805                     [water]                1\n",
       "940       japanese   4734                [sushi rice]                1\n",
       "8852          thai  29738               [sticky rice]                1"
      ]
     },
     "execution_count": 7,
     "metadata": {},
     "output_type": "execute_result"
    }
   ],
   "source": [
    "train['num_ingredients'] = train['ingredients'].apply(lambda x: len(x))\n",
    "test['num_ingredients'] = test['ingredients'].apply(lambda x: len(x))\n",
    "train.sort_values(by=[\"num_ingredients\"],ascending=True).head(20)"
   ]
  },
  {
   "cell_type": "markdown",
   "metadata": {},
   "source": [
    " 6) 2가지 이하의 재료만 사용되는 음식 제외시키기"
   ]
  },
  {
   "cell_type": "code",
   "execution_count": 8,
   "metadata": {},
   "outputs": [],
   "source": [
    "train = train[train['num_ingredients'] > 2]"
   ]
  },
  {
   "cell_type": "code",
   "execution_count": 9,
   "metadata": {},
   "outputs": [
    {
     "data": {
      "text/html": [
       "<div>\n",
       "<style scoped>\n",
       "    .dataframe tbody tr th:only-of-type {\n",
       "        vertical-align: middle;\n",
       "    }\n",
       "\n",
       "    .dataframe tbody tr th {\n",
       "        vertical-align: top;\n",
       "    }\n",
       "\n",
       "    .dataframe thead th {\n",
       "        text-align: right;\n",
       "    }\n",
       "</style>\n",
       "<table border=\"1\" class=\"dataframe\">\n",
       "  <thead>\n",
       "    <tr style=\"text-align: right;\">\n",
       "      <th></th>\n",
       "      <th>cuisine</th>\n",
       "      <th>id</th>\n",
       "      <th>ingredients</th>\n",
       "      <th>num_ingredients</th>\n",
       "    </tr>\n",
       "  </thead>\n",
       "  <tbody>\n",
       "    <tr>\n",
       "      <th>5857</th>\n",
       "      <td>japanese</td>\n",
       "      <td>251</td>\n",
       "      <td>[sugar, mayonaise, garlic chili sauce]</td>\n",
       "      <td>3</td>\n",
       "    </tr>\n",
       "    <tr>\n",
       "      <th>36682</th>\n",
       "      <td>southern_us</td>\n",
       "      <td>6395</td>\n",
       "      <td>[coconut syrup, half &amp; half, diet dr. pepper]</td>\n",
       "      <td>3</td>\n",
       "    </tr>\n",
       "    <tr>\n",
       "      <th>34008</th>\n",
       "      <td>southern_us</td>\n",
       "      <td>36348</td>\n",
       "      <td>[baby back ribs, spices, sauce]</td>\n",
       "      <td>3</td>\n",
       "    </tr>\n",
       "    <tr>\n",
       "      <th>23494</th>\n",
       "      <td>japanese</td>\n",
       "      <td>21333</td>\n",
       "      <td>[brown rice, white rice, soy sauce]</td>\n",
       "      <td>3</td>\n",
       "    </tr>\n",
       "    <tr>\n",
       "      <th>34019</th>\n",
       "      <td>mexican</td>\n",
       "      <td>41619</td>\n",
       "      <td>[processed cheese, chili powder, chili]</td>\n",
       "      <td>3</td>\n",
       "    </tr>\n",
       "    <tr>\n",
       "      <th>37977</th>\n",
       "      <td>irish</td>\n",
       "      <td>1687</td>\n",
       "      <td>[cream, cr챔me de menthe, brandy]</td>\n",
       "      <td>3</td>\n",
       "    </tr>\n",
       "    <tr>\n",
       "      <th>9082</th>\n",
       "      <td>italian</td>\n",
       "      <td>21603</td>\n",
       "      <td>[basil, roma tomatoes, fresh mozzarella]</td>\n",
       "      <td>3</td>\n",
       "    </tr>\n",
       "    <tr>\n",
       "      <th>36686</th>\n",
       "      <td>indian</td>\n",
       "      <td>26330</td>\n",
       "      <td>[urad dal, seeds, rice]</td>\n",
       "      <td>3</td>\n",
       "    </tr>\n",
       "    <tr>\n",
       "      <th>6243</th>\n",
       "      <td>british</td>\n",
       "      <td>6371</td>\n",
       "      <td>[sour cream, heavy cream, confectioners sugar]</td>\n",
       "      <td>3</td>\n",
       "    </tr>\n",
       "    <tr>\n",
       "      <th>19712</th>\n",
       "      <td>japanese</td>\n",
       "      <td>49116</td>\n",
       "      <td>[dried bonito flakes, konbu, water]</td>\n",
       "      <td>3</td>\n",
       "    </tr>\n",
       "    <tr>\n",
       "      <th>3586</th>\n",
       "      <td>irish</td>\n",
       "      <td>17251</td>\n",
       "      <td>[sugar, pineapple, papaya]</td>\n",
       "      <td>3</td>\n",
       "    </tr>\n",
       "    <tr>\n",
       "      <th>5245</th>\n",
       "      <td>mexican</td>\n",
       "      <td>46044</td>\n",
       "      <td>[boneless skinless chicken breasts, olive oil,...</td>\n",
       "      <td>3</td>\n",
       "    </tr>\n",
       "    <tr>\n",
       "      <th>22947</th>\n",
       "      <td>southern_us</td>\n",
       "      <td>18929</td>\n",
       "      <td>[white grapefruit juice, honey, jack daniels]</td>\n",
       "      <td>3</td>\n",
       "    </tr>\n",
       "    <tr>\n",
       "      <th>24761</th>\n",
       "      <td>mexican</td>\n",
       "      <td>37508</td>\n",
       "      <td>[salt, sour cream, heavy cream]</td>\n",
       "      <td>3</td>\n",
       "    </tr>\n",
       "    <tr>\n",
       "      <th>30699</th>\n",
       "      <td>japanese</td>\n",
       "      <td>22227</td>\n",
       "      <td>[Japanese soy sauce, dashi, mirin]</td>\n",
       "      <td>3</td>\n",
       "    </tr>\n",
       "    <tr>\n",
       "      <th>24381</th>\n",
       "      <td>southern_us</td>\n",
       "      <td>28798</td>\n",
       "      <td>[peanuts, sugar, water]</td>\n",
       "      <td>3</td>\n",
       "    </tr>\n",
       "    <tr>\n",
       "      <th>3576</th>\n",
       "      <td>italian</td>\n",
       "      <td>5041</td>\n",
       "      <td>[pinenuts, chopped fresh mint, grated lemon zest]</td>\n",
       "      <td>3</td>\n",
       "    </tr>\n",
       "    <tr>\n",
       "      <th>399</th>\n",
       "      <td>japanese</td>\n",
       "      <td>38754</td>\n",
       "      <td>[dashi kombu, dried bonito flakes, water]</td>\n",
       "      <td>3</td>\n",
       "    </tr>\n",
       "    <tr>\n",
       "      <th>924</th>\n",
       "      <td>moroccan</td>\n",
       "      <td>30741</td>\n",
       "      <td>[green tea, sugar, mint leaves]</td>\n",
       "      <td>3</td>\n",
       "    </tr>\n",
       "    <tr>\n",
       "      <th>15676</th>\n",
       "      <td>mexican</td>\n",
       "      <td>9891</td>\n",
       "      <td>[tomatillo salsa, boneless skinless chicken br...</td>\n",
       "      <td>3</td>\n",
       "    </tr>\n",
       "  </tbody>\n",
       "</table>\n",
       "</div>"
      ],
      "text/plain": [
       "           cuisine     id                                        ingredients  \\\n",
       "5857      japanese    251             [sugar, mayonaise, garlic chili sauce]   \n",
       "36682  southern_us   6395      [coconut syrup, half & half, diet dr. pepper]   \n",
       "34008  southern_us  36348                    [baby back ribs, spices, sauce]   \n",
       "23494     japanese  21333                [brown rice, white rice, soy sauce]   \n",
       "34019      mexican  41619            [processed cheese, chili powder, chili]   \n",
       "37977        irish   1687                   [cream, cr챔me de menthe, brandy]   \n",
       "9082       italian  21603           [basil, roma tomatoes, fresh mozzarella]   \n",
       "36686       indian  26330                            [urad dal, seeds, rice]   \n",
       "6243       british   6371     [sour cream, heavy cream, confectioners sugar]   \n",
       "19712     japanese  49116                [dried bonito flakes, konbu, water]   \n",
       "3586         irish  17251                         [sugar, pineapple, papaya]   \n",
       "5245       mexican  46044  [boneless skinless chicken breasts, olive oil,...   \n",
       "22947  southern_us  18929      [white grapefruit juice, honey, jack daniels]   \n",
       "24761      mexican  37508                    [salt, sour cream, heavy cream]   \n",
       "30699     japanese  22227                 [Japanese soy sauce, dashi, mirin]   \n",
       "24381  southern_us  28798                            [peanuts, sugar, water]   \n",
       "3576       italian   5041  [pinenuts, chopped fresh mint, grated lemon zest]   \n",
       "399       japanese  38754          [dashi kombu, dried bonito flakes, water]   \n",
       "924       moroccan  30741                    [green tea, sugar, mint leaves]   \n",
       "15676      mexican   9891  [tomatillo salsa, boneless skinless chicken br...   \n",
       "\n",
       "       num_ingredients  \n",
       "5857                 3  \n",
       "36682                3  \n",
       "34008                3  \n",
       "23494                3  \n",
       "34019                3  \n",
       "37977                3  \n",
       "9082                 3  \n",
       "36686                3  \n",
       "6243                 3  \n",
       "19712                3  \n",
       "3586                 3  \n",
       "5245                 3  \n",
       "22947                3  \n",
       "24761                3  \n",
       "30699                3  \n",
       "24381                3  \n",
       "3576                 3  \n",
       "399                  3  \n",
       "924                  3  \n",
       "15676                3  "
      ]
     },
     "execution_count": 9,
     "metadata": {},
     "output_type": "execute_result"
    }
   ],
   "source": [
    "train.sort_values(by=[\"num_ingredients\"],ascending=True).head(20)"
   ]
  },
  {
   "cell_type": "code",
   "execution_count": 10,
   "metadata": {},
   "outputs": [
    {
     "data": {
      "image/png": "[encoded data removed]",
      "text/plain": [
       "<Figure size 432x288 with 1 Axes>"
      ]
     },
     "metadata": {
      "needs_background": "light"
     },
     "output_type": "display_data"
    }
   ],
   "source": [
    "sns.distplot(train[\"num_ingredients\"])\n",
    "plt.title(\"Dist Plot about the number of ingredients\")\n",
    "plt.show()"
   ]
  },
  {
   "cell_type": "markdown",
   "metadata": {},
   "source": [
    " 7) 재료 이름 변경 후 단어로 만들기"
   ]
  },
  {
   "cell_type": "code",
   "execution_count": 11,
   "metadata": {},
   "outputs": [],
   "source": [
    "lemmatizer = WordNetLemmatizer()\n",
    "def preprocess(ingredients):\n",
    "    ingredients_text = ' '.join(ingredients)\n",
    "    ingredients_text = ingredients_text.lower()\n",
    "    \n",
    "    ingredients_text = ingredients_text.replace('-', '')\n",
    "    ingredients_text = ingredients_text.replace('wasabe', 'wasabi')\n",
    "    ingredients_text = ingredients_text.replace('fish sauce', 'fishsauce')\n",
    "    ingredients_text = ingredients_text.replace('coconut cream', 'coconutcream')\n",
    "    ingredients_text = ingredients_text.replace('yellow onion', 'yellowonion')\n",
    "    ingredients_text = ingredients_text.replace('cream cheese', 'creamcheese') \n",
    "    ingredients_text = ingredients_text.replace('baby spinach', 'babyspinach')\n",
    "    ingredients_text = ingredients_text.replace('coriander seeds', 'corianderseeds')\n",
    "    ingredients_text = ingredients_text.replace('corn tortillas', 'corntortillas')\n",
    "    ingredients_text = ingredients_text.replace('rice cakes', 'ricecakes')\n",
    "    ingredients_text = ingredients_text.replace('a챌ai', 'acorai')\n",
    "    ingredients_text = ingredients_text.replace('cr챔me', 'crcoame')\n",
    "    \n",
    "    words = []\n",
    "    for word in ingredients_text.split():\n",
    "        if re.findall('[0-9]', word): continue\n",
    "        if len(word) <= 2: continue\n",
    "        if '’' in word: continue\n",
    "        word = lemmatizer.lemmatize(word)\n",
    "        if len(word) > 0: words.append(word)\n",
    "    return ' '.join(words)"
   ]
  },
  {
   "cell_type": "code",
   "execution_count": 12,
   "metadata": {},
   "outputs": [
    {
     "name": "stderr",
     "output_type": "stream",
     "text": [
      "100%|██████████████████████████████████████████████████████████████████████████| 39559/39559 [00:14<00:00, 2741.79it/s]\n",
      "100%|████████████████████████████████████████████████████████████████████████████| 9944/9944 [00:03<00:00, 3284.06it/s]\n"
     ]
    },
    {
     "data": {
      "text/html": [
       "<div>\n",
       "<style scoped>\n",
       "    .dataframe tbody tr th:only-of-type {\n",
       "        vertical-align: middle;\n",
       "    }\n",
       "\n",
       "    .dataframe tbody tr th {\n",
       "        vertical-align: top;\n",
       "    }\n",
       "\n",
       "    .dataframe thead th {\n",
       "        text-align: right;\n",
       "    }\n",
       "</style>\n",
       "<table border=\"1\" class=\"dataframe\">\n",
       "  <thead>\n",
       "    <tr style=\"text-align: right;\">\n",
       "      <th></th>\n",
       "      <th>cuisine</th>\n",
       "      <th>id</th>\n",
       "      <th>ingredients</th>\n",
       "      <th>num_ingredients</th>\n",
       "      <th>new_ingredients</th>\n",
       "    </tr>\n",
       "  </thead>\n",
       "  <tbody>\n",
       "    <tr>\n",
       "      <th>0</th>\n",
       "      <td>greek</td>\n",
       "      <td>10259</td>\n",
       "      <td>[romaine lettuce, black olives, grape tomatoes...</td>\n",
       "      <td>9</td>\n",
       "      <td>romaine lettuce black olive grape tomato garli...</td>\n",
       "    </tr>\n",
       "    <tr>\n",
       "      <th>1</th>\n",
       "      <td>southern_us</td>\n",
       "      <td>25693</td>\n",
       "      <td>[plain flour, ground pepper, salt, tomatoes, g...</td>\n",
       "      <td>11</td>\n",
       "      <td>plain flour ground pepper salt tomato ground b...</td>\n",
       "    </tr>\n",
       "    <tr>\n",
       "      <th>2</th>\n",
       "      <td>filipino</td>\n",
       "      <td>20130</td>\n",
       "      <td>[eggs, pepper, salt, mayonaise, cooking oil, g...</td>\n",
       "      <td>12</td>\n",
       "      <td>egg pepper salt mayonaise cooking oil green ch...</td>\n",
       "    </tr>\n",
       "    <tr>\n",
       "      <th>3</th>\n",
       "      <td>indian</td>\n",
       "      <td>22213</td>\n",
       "      <td>[water, vegetable oil, wheat, salt]</td>\n",
       "      <td>4</td>\n",
       "      <td>water vegetable oil wheat salt</td>\n",
       "    </tr>\n",
       "    <tr>\n",
       "      <th>4</th>\n",
       "      <td>indian</td>\n",
       "      <td>13162</td>\n",
       "      <td>[black pepper, shallots, cornflour, cayenne pe...</td>\n",
       "      <td>20</td>\n",
       "      <td>black pepper shallot cornflour cayenne pepper ...</td>\n",
       "    </tr>\n",
       "  </tbody>\n",
       "</table>\n",
       "</div>"
      ],
      "text/plain": [
       "       cuisine     id                                        ingredients  \\\n",
       "0        greek  10259  [romaine lettuce, black olives, grape tomatoes...   \n",
       "1  southern_us  25693  [plain flour, ground pepper, salt, tomatoes, g...   \n",
       "2     filipino  20130  [eggs, pepper, salt, mayonaise, cooking oil, g...   \n",
       "3       indian  22213                [water, vegetable oil, wheat, salt]   \n",
       "4       indian  13162  [black pepper, shallots, cornflour, cayenne pe...   \n",
       "\n",
       "   num_ingredients                                    new_ingredients  \n",
       "0                9  romaine lettuce black olive grape tomato garli...  \n",
       "1               11  plain flour ground pepper salt tomato ground b...  \n",
       "2               12  egg pepper salt mayonaise cooking oil green ch...  \n",
       "3                4                     water vegetable oil wheat salt  \n",
       "4               20  black pepper shallot cornflour cayenne pepper ...  "
      ]
     },
     "execution_count": 12,
     "metadata": {},
     "output_type": "execute_result"
    }
   ],
   "source": [
    "train['new_ingredients'] = train['ingredients'].progress_apply(lambda ingredients: preprocess(ingredients))\n",
    "test['new_ingredients'] = test['ingredients'].progress_apply(lambda ingredients: preprocess(ingredients))\n",
    "train.head()"
   ]
  },
  {
   "cell_type": "markdown",
   "metadata": {},
   "source": [
    " 8) TfidfVectorizer"
   ]
  },
  {
   "cell_type": "code",
   "execution_count": 13,
   "metadata": {},
   "outputs": [],
   "source": [
    "vectorizer = make_pipeline(\n",
    "    TfidfVectorizer(sublinear_tf=True),\n",
    "    FunctionTransformer(lambda x: x.astype('float'), validate=False)\n",
    ")"
   ]
  },
  {
   "cell_type": "code",
   "execution_count": 14,
   "metadata": {},
   "outputs": [],
   "source": [
    "x_train = vectorizer.fit_transform(train['new_ingredients'].values)\n",
    "x_train.sort_indices()\n",
    "x_test = vectorizer.transform(test['new_ingredients'].values)"
   ]
  },
  {
   "cell_type": "markdown",
   "metadata": {},
   "source": [
    " 9) cuisine에 라벨 인코딩(0~19)"
   ]
  },
  {
   "cell_type": "code",
   "execution_count": 15,
   "metadata": {},
   "outputs": [
    {
     "data": {
      "text/plain": [
       "{'brazilian': 0,\n",
       " 'british': 1,\n",
       " 'cajun_creole': 2,\n",
       " 'chinese': 3,\n",
       " 'filipino': 4,\n",
       " 'french': 5,\n",
       " 'greek': 6,\n",
       " 'indian': 7,\n",
       " 'irish': 8,\n",
       " 'italian': 9,\n",
       " 'jamaican': 10,\n",
       " 'japanese': 11,\n",
       " 'korean': 12,\n",
       " 'mexican': 13,\n",
       " 'moroccan': 14,\n",
       " 'russian': 15,\n",
       " 'southern_us': 16,\n",
       " 'spanish': 17,\n",
       " 'thai': 18,\n",
       " 'vietnamese': 19}"
      ]
     },
     "execution_count": 15,
     "metadata": {},
     "output_type": "execute_result"
    }
   ],
   "source": [
    "label_encoder = LabelEncoder()\n",
    "y_train = label_encoder.fit_transform(train['cuisine'].values)\n",
    "dict(zip(label_encoder.classes_, label_encoder.transform(label_encoder.classes_)))"
   ]
  },
  {
   "cell_type": "markdown",
   "metadata": {},
   "source": [
    "<3> 모델 만들기"
   ]
  },
  {
   "cell_type": "code",
   "execution_count": 16,
   "metadata": {},
   "outputs": [],
   "source": [
    "from sklearn.neighbors import KNeighborsClassifier\n",
    "from sklearn.tree import DecisionTreeClassifier\n",
    "from sklearn.ensemble import RandomForestClassifier\n",
    "from sklearn.linear_model import LogisticRegression\n",
    "\n",
    "from sklearn.model_selection import KFold\n",
    "from sklearn.model_selection import cross_val_score\n",
    "k_fold = KFold(n_splits=10, shuffle=True, random_state=0)"
   ]
  },
  {
   "cell_type": "code",
   "execution_count": 17,
   "metadata": {},
   "outputs": [],
   "source": [
    "train_data=train.drop(\"cuisine\", axis=1)\n",
    "train_data=train_data.drop(\"ingredients\", axis=1)\n",
    "train_data=train_data.drop(\"new_ingredients\", axis=1)\n",
    "target=train['cuisine']"
   ]
  },
  {
   "cell_type": "markdown",
   "metadata": {},
   "source": [
    " 1)  LogisticRegression : 0.78197"
   ]
  },
  {
   "cell_type": "code",
   "execution_count": 18,
   "metadata": {},
   "outputs": [],
   "source": [
    "#clf = LogisticRegression()\n",
    "#parameters = {'C':[1, 10]}\n",
    "#score=cross_val_score(clf, train_data, target, cv=k_fold, n_jobs=1, scoring='accuracy')\n",
    "#round(np.mean(score)*100, 2)\n",
    "#0.78197"
   ]
  },
  {
   "cell_type": "markdown",
   "metadata": {},
   "source": [
    " 2)  KNeighborsClassifier : 0.75573"
   ]
  },
  {
   "cell_type": "code",
   "execution_count": 19,
   "metadata": {},
   "outputs": [],
   "source": [
    "#classifier = KNeighborsClassifier(n_neighbors = 10)\n",
    "#score=cross_val_score(classifier, train_data, target, cv=k_fold, n_jobs=1, scoring='accuracy')\n",
    "#round(np.mean(score)*100, 2)\n",
    "#0.75573"
   ]
  },
  {
   "cell_type": "markdown",
   "metadata": {},
   "source": [
    " 3)  DecisionTreeClassifier : 0.63143"
   ]
  },
  {
   "cell_type": "code",
   "execution_count": 20,
   "metadata": {},
   "outputs": [],
   "source": [
    "#classifier = DecisionTreeClassifier()\n",
    "#score=cross_val_score(classifier, train_data, target, cv=k_fold, n_jobs=1, scoring='accuracy')\n",
    "#round(np.mean(score)*100, 2)\n",
    "#0.63143"
   ]
  },
  {
   "cell_type": "markdown",
   "metadata": {},
   "source": [
    " 4)  RandomForestClassifier : 0.70444"
   ]
  },
  {
   "cell_type": "code",
   "execution_count": 21,
   "metadata": {},
   "outputs": [],
   "source": [
    "#classifier = RandomForestClassifier()\n",
    "#score=cross_val_score(classifier, train_data, target, cv=k_fold, n_jobs=1, scoring='accuracy')\n",
    "#round(np.mean(score)*100, 2)\n",
    "#0.70444"
   ]
  },
  {
   "cell_type": "markdown",
   "metadata": {},
   "source": [
    " 5)  OneVsRestClassifier : 0.82662"
   ]
  },
  {
   "cell_type": "markdown",
   "metadata": {},
   "source": [
    " 가장 성능 뛰어난 OneVsRestClassifier 선택"
   ]
  },
  {
   "cell_type": "code",
   "execution_count": 22,
   "metadata": {},
   "outputs": [],
   "source": [
    "estimator = SVC(C=300, kernel='rbf', degree=3, gamma=1.4, coef0=1, shrinking=True, tol=0.001,probability=False, cache_size=1000, \n",
    "                class_weight=None, verbose=False, max_iter=-1, decision_function_shape=None, random_state=None)"
   ]
  },
  {
   "cell_type": "code",
   "execution_count": 23,
   "metadata": {},
   "outputs": [],
   "source": [
    "classifier = OneVsRestClassifier(estimator, n_jobs=-1)"
   ]
  },
  {
   "cell_type": "markdown",
   "metadata": {},
   "source": [
    "<4> 모델 훈련시키기"
   ]
  },
  {
   "cell_type": "code",
   "execution_count": 24,
   "metadata": {},
   "outputs": [
    {
     "data": {
      "text/plain": [
       "OneVsRestClassifier(estimator=SVC(C=300, cache_size=1000, class_weight=None, coef0=1,\n",
       "  decision_function_shape=None, degree=3, gamma=1.4, kernel='rbf',\n",
       "  max_iter=-1, probability=False, random_state=None, shrinking=True,\n",
       "  tol=0.001, verbose=False),\n",
       "          n_jobs=-1)"
      ]
     },
     "execution_count": 24,
     "metadata": {},
     "output_type": "execute_result"
    }
   ],
   "source": [
    "classifier.fit(x_train, y_train)"
   ]
  },
  {
   "cell_type": "markdown",
   "metadata": {},
   "source": [
    "<5> test 데이터 예측"
   ]
  },
  {
   "cell_type": "code",
   "execution_count": 25,
   "metadata": {},
   "outputs": [],
   "source": [
    "y_pred = label_encoder.inverse_transform(classifier.predict(x_test))"
   ]
  },
  {
   "cell_type": "code",
   "execution_count": 26,
   "metadata": {},
   "outputs": [
    {
     "name": "stdout",
     "output_type": "stream",
     "text": [
      "[[ 103    0    0    0    0    0    0    0    0    0    0    0    0    0\n",
      "     0    0    0    0    0    0]\n",
      " [   0  177    0    0    0    0    0    0    0    0    0    0    0    0\n",
      "     0    0    0    0    0    0]\n",
      " [   0    0  376    0    0    0    0    0    0    0    0    0    0    0\n",
      "     0    0    0    0    0    0]\n",
      " [   0    0    0  704    0    0    0    0    0    0    0    0    0    0\n",
      "     0    0    0    0    0    0]\n",
      " [   0    0    0    0  167    0    0    0    0    0    0    0    0    0\n",
      "     0    0    0    0    0    0]\n",
      " [   0    0    0    0    0  698    0    0    0    0    0    0    0    0\n",
      "     0    0    0    0    0    0]\n",
      " [   0    0    0    0    0    0  280    0    0    0    0    0    0    0\n",
      "     0    0    0    0    0    0]\n",
      " [   0    0    0    0    0    0    0  801    0    0    0    0    0    0\n",
      "     0    0    0    0    0    0]\n",
      " [   0    0    0    0    0    0    0    0  123    0    0    0    0    0\n",
      "     0    0    0    0    0    0]\n",
      " [   0    0    0    0    0    0    0    0    0 2057    0    0    0    0\n",
      "     0    0    0    0    0    0]\n",
      " [   0    0    0    0    0    0    0    0    0    0  105    0    0    0\n",
      "     0    0    0    0    0    0]\n",
      " [   0    0    0    0    0    0    0    0    0    0    0  305    0    0\n",
      "     0    0    0    0    0    0]\n",
      " [   0    0    0    0    0    0    0    0    0    0    0    0  182    0\n",
      "     0    0    0    0    0    0]\n",
      " [   0    0    0    0    0    0    0    0    0    0    0    0    0 1639\n",
      "     0    0    0    0    0    0]\n",
      " [   0    0    0    0    0    0    0    0    0    0    0    0    0    0\n",
      "   182    0    0    0    0    0]\n",
      " [   0    0    0    0    0    0    0    0    0    0    0    0    0    0\n",
      "     0   98    0    0    0    0]\n",
      " [   0    0    0    0    0    0    0    0    0    0    0    0    0    0\n",
      "     0    0 1161    0    0    0]\n",
      " [   0    0    0    0    0    0    0    0    0    0    0    0    0    0\n",
      "     0    0    0  181    0    0]\n",
      " [   0    0    0    0    0    0    0    0    0    0    0    0    0    0\n",
      "     0    0    0    0  413    0]\n",
      " [   0    0    0    0    0    0    0    0    0    0    0    0    0    0\n",
      "     0    0    0    0    0  192]]\n"
     ]
    }
   ],
   "source": [
    "from sklearn.metrics import confusion_matrix, classification_report\n",
    "print(confusion_matrix(y_pred, y_pred))"
   ]
  },
  {
   "cell_type": "code",
   "execution_count": 27,
   "metadata": {},
   "outputs": [
    {
     "name": "stdout",
     "output_type": "stream",
     "text": [
      "              precision    recall  f1-score   support\n",
      "\n",
      "   brazilian       1.00      1.00      1.00       103\n",
      "     british       1.00      1.00      1.00       177\n",
      "cajun_creole       1.00      1.00      1.00       376\n",
      "     chinese       1.00      1.00      1.00       704\n",
      "    filipino       1.00      1.00      1.00       167\n",
      "      french       1.00      1.00      1.00       698\n",
      "       greek       1.00      1.00      1.00       280\n",
      "      indian       1.00      1.00      1.00       801\n",
      "       irish       1.00      1.00      1.00       123\n",
      "     italian       1.00      1.00      1.00      2057\n",
      "    jamaican       1.00      1.00      1.00       105\n",
      "    japanese       1.00      1.00      1.00       305\n",
      "      korean       1.00      1.00      1.00       182\n",
      "     mexican       1.00      1.00      1.00      1639\n",
      "    moroccan       1.00      1.00      1.00       182\n",
      "     russian       1.00      1.00      1.00        98\n",
      " southern_us       1.00      1.00      1.00      1161\n",
      "     spanish       1.00      1.00      1.00       181\n",
      "        thai       1.00      1.00      1.00       413\n",
      "  vietnamese       1.00      1.00      1.00       192\n",
      "\n",
      "   micro avg       1.00      1.00      1.00      9944\n",
      "   macro avg       1.00      1.00      1.00      9944\n",
      "weighted avg       1.00      1.00      1.00      9944\n",
      "\n"
     ]
    }
   ],
   "source": [
    "print(classification_report(y_pred, y_pred))"
   ]
  },
  {
   "cell_type": "markdown",
   "metadata": {},
   "source": [
    "<6> 제출용 csv 파일 생성"
   ]
  },
  {
   "cell_type": "code",
   "execution_count": 28,
   "metadata": {},
   "outputs": [
    {
     "data": {
      "text/html": [
       "<div>\n",
       "<style scoped>\n",
       "    .dataframe tbody tr th:only-of-type {\n",
       "        vertical-align: middle;\n",
       "    }\n",
       "\n",
       "    .dataframe tbody tr th {\n",
       "        vertical-align: top;\n",
       "    }\n",
       "\n",
       "    .dataframe thead th {\n",
       "        text-align: right;\n",
       "    }\n",
       "</style>\n",
       "<table border=\"1\" class=\"dataframe\">\n",
       "  <thead>\n",
       "    <tr style=\"text-align: right;\">\n",
       "      <th></th>\n",
       "      <th>id</th>\n",
       "      <th>cuisine</th>\n",
       "    </tr>\n",
       "  </thead>\n",
       "  <tbody>\n",
       "    <tr>\n",
       "      <th>0</th>\n",
       "      <td>18009</td>\n",
       "      <td>irish</td>\n",
       "    </tr>\n",
       "    <tr>\n",
       "      <th>1</th>\n",
       "      <td>28583</td>\n",
       "      <td>southern_us</td>\n",
       "    </tr>\n",
       "    <tr>\n",
       "      <th>2</th>\n",
       "      <td>41580</td>\n",
       "      <td>italian</td>\n",
       "    </tr>\n",
       "    <tr>\n",
       "      <th>3</th>\n",
       "      <td>29752</td>\n",
       "      <td>cajun_creole</td>\n",
       "    </tr>\n",
       "    <tr>\n",
       "      <th>4</th>\n",
       "      <td>35687</td>\n",
       "      <td>italian</td>\n",
       "    </tr>\n",
       "  </tbody>\n",
       "</table>\n",
       "</div>"
      ],
      "text/plain": [
       "      id       cuisine\n",
       "0  18009         irish\n",
       "1  28583   southern_us\n",
       "2  41580       italian\n",
       "3  29752  cajun_creole\n",
       "4  35687       italian"
      ]
     },
     "execution_count": 28,
     "metadata": {},
     "output_type": "execute_result"
    }
   ],
   "source": [
    "test['cuisine'] = y_pred\n",
    "test[['id', 'cuisine']].to_csv('Jsy_submission.csv', index=False)\n",
    "test[['id', 'cuisine']].head()"
   ]
  },
  {
   "cell_type": "code",
   "execution_count": null,
   "metadata": {},
   "outputs": [],
   "source": []
  }
 ],
 "metadata": {
  "kernelspec": {
   "display_name": "Python 3",
   "language": "python",
   "name": "python3"
  },
  "language_info": {
   "codemirror_mode": {
    "name": "ipython",
    "version": 3
   },
   "file_extension": ".py",
   "mimetype": "text/x-python",
   "name": "python",
   "nbconvert_exporter": "python",
   "pygments_lexer": "ipython3",
   "version": "3.7.2"
  }
 },
 "nbformat": 4,
 "nbformat_minor": 2
}
