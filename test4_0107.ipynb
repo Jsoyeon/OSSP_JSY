{
  "cells": [
    {
      "metadata": {
        "_uuid": "8f2839f25d086af736a60e9eeb907d3b93b6e0e5",
        "_cell_guid": "b1076dfc-b9ad-4769-8c92-a6c4dae69d19",
        "trusted": true
      },
      "cell_type": "code",
      "source": "# -*- coding: utf-8 -*-\nfrom pandas import Series, DataFrame\nimport pandas as pd\nimport numpy as np\nimport nltk\nimport re\nfrom nltk.stem import WordNetLemmatizer\nfrom sklearn.svm import LinearSVC\nfrom sklearn.metrics import classification_report\nimport sklearn.metrics\nfrom sklearn.feature_extraction.text import TfidfVectorizer\nfrom sklearn.model_selection import GridSearchCV\nfrom sklearn.linear_model import LogisticRegression",
      "execution_count": null,
      "outputs": []
    },
    {
      "metadata": {
        "_cell_guid": "79c7e3d0-c299-4dcb-8224-4455121ee9b0",
        "_uuid": "d629ff2d2480ee46fbb7e2d37f6b5fab8052498a",
        "trusted": true
      },
      "cell_type": "code",
      "source": "# A combination of Word lemmatization + LinearSVC model finally pushes the accuracy score past 80%\n\ntraindf = pd.read_json(\"../input/train.json\")\ntraindf['ingredients_clean_string'] = [' , '.join(z).strip() for z in traindf['ingredients']]  \n#[]제거\ntraindf['ingredients_string'] = [' '.join([WordNetLemmatizer().lemmatize(re.sub('[^A-Za-z]', ' ', line)) for line in lists]).strip() for lists in traindf['ingredients']]       \n#,제거\ntraindf",
      "execution_count": null,
      "outputs": []
    },
    {
      "metadata": {
        "trusted": true,
        "_uuid": "34921ec519e2cdf6a671d7297c937ee7232fcbd9"
      },
      "cell_type": "code",
      "source": "testdf = pd.read_json(\"../input/test.json\") \ntestdf['ingredients_clean_string'] = [' , '.join(z).strip() for z in testdf['ingredients']]\ntestdf['ingredients_string'] = [' '.join([WordNetLemmatizer().lemmatize(re.sub('[^A-Za-z]', ' ', line)) for line in lists]).strip() for lists in testdf['ingredients']]\ntestdf",
      "execution_count": null,
      "outputs": []
    },
    {
      "metadata": {
        "trusted": true,
        "_uuid": "6bec0249c3094d7f5a9ce3d4f72b4a51255cad03"
      },
      "cell_type": "code",
      "source": "corpustr = traindf['ingredients_string']\nvectorizertr = TfidfVectorizer(stop_words='english',\n                             ngram_range = ( 1 , 1 ),analyzer=\"word\", \n                             max_df = .67 , binary=False , token_pattern=r'\\w+' , sublinear_tf=False)",
      "execution_count": null,
      "outputs": []
    },
    {
      "metadata": {
        "trusted": true,
        "_uuid": "7a96bfb385e498e23f58dd74ff5802caf0916766"
      },
      "cell_type": "code",
      "source": "predictors_tr=vectorizertr.fit_transform(corpustr).todense()\ncorpusts = testdf['ingredients_string']\nvectorizerts = TfidfVectorizer(stop_words='english')\ntargets_tr = traindf['cuisine']\npredictors_ts=vectorizertr.transform(corpusts)",
      "execution_count": null,
      "outputs": []
    },
    {
      "metadata": {
        "trusted": true,
        "_uuid": "8e0587f8f2ce53af5dcb92556a2744940b45b0d2"
      },
      "cell_type": "code",
      "source": "#classifier = LinearSVC(C=0.80, penalty=\"l2\", dual=False)\nparameters = {'C':[1, 10]}\n#clf = LinearSVC()\nclf = LogisticRegression()\n\nclassifier = GridSearchCV(clf, parameters)\n\nclassifier=classifier.fit(predictors_tr,targets_tr)\n",
      "execution_count": null,
      "outputs": []
    },
    {
      "metadata": {
        "trusted": true,
        "_uuid": "ee0c8bc82d50b6404df6a4194a0fde5fafac5395"
      },
      "cell_type": "code",
      "source": "predictions=classifier.predict(predictors_ts)\ntestdf['cuisine'] = predictions\ntestdf = testdf.sort_values('id' , ascending=True)\n\ntestdf[['id' , 'cuisine' ]].to_csv(\"final submission.csv\", index=False)",
      "execution_count": null,
      "outputs": []
    },
    {
      "metadata": {
        "trusted": true,
        "_uuid": "5f48d8400aead236be81d6b0ad9d24bed89fdba4"
      },
      "cell_type": "code",
      "source": "",
      "execution_count": null,
      "outputs": []
    }
  ],
  "metadata": {
    "kernelspec": {
      "display_name": "Python 3",
      "language": "python",
      "name": "python3"
    },
    "language_info": {
      "name": "python",
      "version": "3.6.6",
      "mimetype": "text/x-python",
      "codemirror_mode": {
        "name": "ipython",
        "version": 3
      },
      "pygments_lexer": "ipython3",
      "nbconvert_exporter": "python",
      "file_extension": ".py"
    }
  },
  "nbformat": 4,
  "nbformat_minor": 1
}