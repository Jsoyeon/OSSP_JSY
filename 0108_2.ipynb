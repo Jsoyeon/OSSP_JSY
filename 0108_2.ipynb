{
  "cells": [
    {
      "metadata": {
        "_uuid": "8f2839f25d086af736a60e9eeb907d3b93b6e0e5",
        "_cell_guid": "b1076dfc-b9ad-4769-8c92-a6c4dae69d19",
        "trusted": true
      },
      "cell_type": "code",
      "source": "#v1_0.77654\nimport pandas as pd\nimport numpy as np\nfood = pd.read_json(\"../input/train.json\")\nfoodTest = pd.read_json(\"../input/test.json\")\n##Doing stemming\nfrom nltk.stem.snowball import SnowballStemmer\nstemmer = SnowballStemmer('english')\nprint(stemmer.stem(\"tomatoes\"))\n",
      "execution_count": null,
      "outputs": []
    },
    {
      "metadata": {
        "trusted": true,
        "_uuid": "f8386b4a872f6d363c6ca4af90a1f76767d65526"
      },
      "cell_type": "code",
      "source": "def stemming(string):\n    s = \"\"\n    string = string.split() \n    for e in string:\n        s = s + stemmer.stem(e)+ \" \"\n    return s\n\ndef listtostr(listring):\n    s = \"\"\n    for e in listring:\n        s = s + e + \" , \"\n    return s\n    \nprint(listtostr(['a','b','c']))\nprint(stemming('tomatoes potatoes , potatoes , lovely'))\n\nfood['ingredientText'] = food['ingredients'].apply(lambda x: listtostr(x))     \nfoodTest['ingredientText'] = foodTest['ingredients'].apply(lambda x: listtostr(x)) \n\nimport re\nfood['ingredientTextClean'] = food['ingredientText'].apply(lambda x: re.sub('[^a-zA-Z,]',' ',x))     \nfoodTest['ingredientTextClean'] = foodTest['ingredientText'].apply(lambda x: re.sub('[^a-zA-Z,]',' ',x)) \n\nfood['ingredientTextClean'] = food['ingredientText'].apply(lambda x: stemming(x))     \nfoodTest['ingredientTextClean'] = foodTest['ingredientText'].apply(lambda x: stemming(x)) ",
      "execution_count": null,
      "outputs": []
    },
    {
      "metadata": {
        "trusted": true,
        "_uuid": "fbb936851b2af57548f2373a70362ff69b8b50b9"
      },
      "cell_type": "code",
      "source": "\n#print(food.head())\n##Doing stemming\nfrom nltk.stem.snowball import SnowballStemmer\nstemmer = SnowballStemmer('english')\nprint(stemmer.stem(\"tomatoes\"))\n\nmsk = np.random.rand(len(food)) < 0.8\n\ntrain_data = food[msk]\ntest_data = food[~msk]\nprint(len(train_data))\nprint(len(test_data))\n\n## Selecting target variable \ny_train = np.array(train_data['cuisine'])\ny_test = np.array(test_data['cuisine'])\n\nfrom sklearn.feature_extraction.text import TfidfVectorizer\nvectorizer = TfidfVectorizer(analyzer = 'word', ngram_range = (0,4), stop_words = 'english', token_pattern = \"\\w+\", norm = 'l2', )\nvectorizer.fit(food['ingredientTextClean'])\nx_train = vectorizer.transform(train_data['ingredientTextClean'])\nx_test = vectorizer.transform(test_data['ingredientTextClean'])\nx_foodTest = vectorizer.transform(foodTest['ingredientTextClean'])\n\n\n#from sklearn.grid_search import GridSearchCV\n\n# Tuning the parameters of all the campaigns\nfrom scipy import stats\n\n#from sklearn.grid_search import  RandomizedSearchCV\nfrom sklearn.svm import LinearSVC\n#parameters = {'C': stats.expon(scale=10)}\nclf = LinearSVC()\n#clf = RandomizedSearchCV(svr, parameters)\nclf.fit(x_train,y_train)\nprint(clf.score(x_train,y_train))\nprint(clf.score(x_test,y_test))",
      "execution_count": null,
      "outputs": []
    },
    {
      "metadata": {
        "trusted": true,
        "_uuid": "f87e5ae18e8695d1e0b2ba65770a9c418a9f2d9e"
      },
      "cell_type": "code",
      "source": "from sklearn.model_selection import cross_val_score\nprint(cross_val_score(clf,x_test,y_test,cv=5))\nfoodTest['cuisine']=clf.predict(x_foodTest)",
      "execution_count": null,
      "outputs": []
    },
    {
      "metadata": {
        "_cell_guid": "79c7e3d0-c299-4dcb-8224-4455121ee9b0",
        "_uuid": "d629ff2d2480ee46fbb7e2d37f6b5fab8052498a",
        "trusted": true
      },
      "cell_type": "code",
      "source": "#foodTest[['id','ingredients','cuisine']].to_csv(\"submission.csv\",index = False)\nfoodTest[['id','cuisine']].to_csv(\"submission.csv\",index = False)",
      "execution_count": null,
      "outputs": []
    },
    {
      "metadata": {
        "trusted": true,
        "_uuid": "03f697e3d003bad48c18a75422ef8499bcf40517"
      },
      "cell_type": "code",
      "source": "",
      "execution_count": null,
      "outputs": []
    }
  ],
  "metadata": {
    "kernelspec": {
      "display_name": "Python 3",
      "language": "python",
      "name": "python3"
    },
    "language_info": {
      "name": "python",
      "version": "3.6.6",
      "mimetype": "text/x-python",
      "codemirror_mode": {
        "name": "ipython",
        "version": 3
      },
      "pygments_lexer": "ipython3",
      "nbconvert_exporter": "python",
      "file_extension": ".py"
    }
  },
  "nbformat": 4,
  "nbformat_minor": 1
}